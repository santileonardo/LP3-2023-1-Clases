{
 "cells": [
  {
   "cell_type": "markdown",
   "id": "e1f5c440",
   "metadata": {},
   "source": [
    "# Semana 03\n",
    "\n",
    "Ing Leonardo Breña"
   ]
  },
  {
   "cell_type": "markdown",
   "id": "82f5fb74",
   "metadata": {},
   "source": [
    "Tema:\n",
    "    1. Numeros\n",
    "    2. variables\n",
    "    3. Manejo de cadenas\n",
    "    4. Ingreso de datos por teclado\n",
    "    5. Operaciones"
   ]
  },
  {
   "cell_type": "markdown",
   "id": "9eeaaeb7",
   "metadata": {},
   "source": [
    "2. variables"
   ]
  },
  {
   "cell_type": "code",
   "execution_count": null,
   "id": "b1666016",
   "metadata": {},
   "outputs": [],
   "source": [
    "#Siempre deben iniciar con una letra a un guin abajo.(nunca con un numero o simbolo)"
   ]
  },
  {
   "cell_type": "code",
   "execution_count": 1,
   "id": "731c3ffd",
   "metadata": {},
   "outputs": [],
   "source": [
    "edad = 23"
   ]
  },
  {
   "cell_type": "code",
   "execution_count": 2,
   "id": "d0cfd409",
   "metadata": {},
   "outputs": [
    {
     "data": {
      "text/plain": [
       "23"
      ]
     },
     "execution_count": 2,
     "metadata": {},
     "output_type": "execute_result"
    }
   ],
   "source": [
    "edad"
   ]
  },
  {
   "cell_type": "code",
   "execution_count": 3,
   "id": "7f33963c",
   "metadata": {},
   "outputs": [],
   "source": [
    "nombre = \"Leonardo\""
   ]
  },
  {
   "cell_type": "code",
   "execution_count": 4,
   "id": "f9e69d94",
   "metadata": {},
   "outputs": [
    {
     "data": {
      "text/plain": [
       "'Leonardo'"
      ]
     },
     "execution_count": 4,
     "metadata": {},
     "output_type": "execute_result"
    }
   ],
   "source": [
    "nombre"
   ]
  },
  {
   "cell_type": "code",
   "execution_count": 5,
   "id": "9f392229",
   "metadata": {},
   "outputs": [],
   "source": [
    "Apellido = \"Breña Santi\""
   ]
  },
  {
   "cell_type": "code",
   "execution_count": 6,
   "id": "22482ae2",
   "metadata": {},
   "outputs": [
    {
     "data": {
      "text/plain": [
       "'Breña Santi'"
      ]
     },
     "execution_count": 6,
     "metadata": {},
     "output_type": "execute_result"
    }
   ],
   "source": [
    "Apellido"
   ]
  },
  {
   "cell_type": "code",
   "execution_count": 7,
   "id": "77c478a0",
   "metadata": {},
   "outputs": [],
   "source": [
    "nombrecompleto = nombre + Apellido"
   ]
  },
  {
   "cell_type": "code",
   "execution_count": 8,
   "id": "ad216a42",
   "metadata": {},
   "outputs": [
    {
     "data": {
      "text/plain": [
       "'LeonardoBreña Santi'"
      ]
     },
     "execution_count": 8,
     "metadata": {},
     "output_type": "execute_result"
    }
   ],
   "source": [
    "nombrecompleto"
   ]
  },
  {
   "cell_type": "code",
   "execution_count": 9,
   "id": "676d854b",
   "metadata": {},
   "outputs": [],
   "source": [
    "talla = 1.60"
   ]
  },
  {
   "cell_type": "code",
   "execution_count": 10,
   "id": "14d3ee16",
   "metadata": {},
   "outputs": [
    {
     "data": {
      "text/plain": [
       "1.6"
      ]
     },
     "execution_count": 10,
     "metadata": {},
     "output_type": "execute_result"
    }
   ],
   "source": [
    "talla"
   ]
  },
  {
   "cell_type": "code",
   "execution_count": 11,
   "id": "8e1edf4b",
   "metadata": {},
   "outputs": [
    {
     "data": {
      "text/plain": [
       "float"
      ]
     },
     "execution_count": 11,
     "metadata": {},
     "output_type": "execute_result"
    }
   ],
   "source": [
    "type (talla)"
   ]
  },
  {
   "cell_type": "code",
   "execution_count": null,
   "id": "aced1556",
   "metadata": {},
   "outputs": [],
   "source": [
    "numero = 100\n",
    "cadena = "
   ]
  }
 ],
 "metadata": {
  "kernelspec": {
   "display_name": "Python 3 (ipykernel)",
   "language": "python",
   "name": "python3"
  },
  "language_info": {
   "codemirror_mode": {
    "name": "ipython",
    "version": 3
   },
   "file_extension": ".py",
   "mimetype": "text/x-python",
   "name": "python",
   "nbconvert_exporter": "python",
   "pygments_lexer": "ipython3",
   "version": "3.9.12"
  }
 },
 "nbformat": 4,
 "nbformat_minor": 5
}
